{
 "cells": [
  {
   "cell_type": "code",
   "execution_count": 1,
   "metadata": {},
   "outputs": [],
   "source": [
    "import requests\n",
    "from bs4 import BeautifulSoup \n",
    "import nltk\n",
    "from nltk.corpus import stopwords"
   ]
  },
  {
   "cell_type": "code",
   "execution_count": 2,
   "metadata": {},
   "outputs": [
    {
     "name": "stdout",
     "output_type": "stream",
     "text": [
      "ï»¿The Project Gutenberg EBook of Treasure Island, by Robert Louis Stevenson\r\n",
      "\r\n",
      "This eBook is for the use of anyone anywhere at no cost and with\r\n",
      "almost no restrictions whatsoever.  You may copy it, give it away or\r\n",
      "re-use it under the terms of the Project Gutenberg License included\r\n",
      "with this eBook or online at www.gutenberg.org\r\n",
      "\r\n",
      "\r\n",
      "Title: Treasure Island\r\n",
      "\r\n",
      "Author: Robert Louis Stevenson\r\n",
      "\r\n",
      "Release Date: February 25, 2006 [EBook #120]\r\n",
      "Last Updated: June 11, 2019\r\n",
      "\r\n",
      "Language: English\r\n",
      "\r\n",
      "Character set encoding: UTF-8\r\n",
      "\r\n",
      "*** START OF THIS PROJECT GUTENBERG EBOOK TREASURE ISLAND ***\r\n",
      "\r\n",
      "\r\n",
      "\r\n",
      "\r\n",
      "Produced by Judy Boss, John Hamm and David Widger\r\n",
      "\r\n",
      "\r\n",
      "\r\n",
      "\r\n",
      "\r\n",
      "TREASURE ISLAND\r\n",
      "\r\n",
      "by Robert Louis Stevenson\r\n",
      "\r\n",
      "\r\n",
      "\r\n",
      "\r\n",
      "TREASURE ISLAND\r\n",
      "\r\n",
      "To S.L.O., an American gentleman in accordance with whose classic taste\r\n",
      "the following narrative has been designed, it is now, in return for\r\n",
      "numerous delightful hours, and with the kindest wishes, dedicated by his\r\n",
      "affectionate friend, the author.\r\n",
      "\r\n",
      "\r\n",
      "\r\n",
      "               TO THE HESITATING PURCHASER\r\n",
      "\r\n",
      "               If sailor tales to sailor tunes,\r\n",
      "                  Storm and adventure, heat and cold,\r\n",
      "               If schooners, islands, and maroons,\r\n",
      "                  And buccaneers, and buried gold,\r\n",
      "               And all the old romance, retold\r\n",
      "                  Exactly in the ancient way,\r\n",
      "               Can please, as me they pleased of old,\r\n",
      "                  The wiser youngsters of today:\r\n",
      "\r\n",
      "               --So be it, and fall on!  If not,\r\n",
      "                  If studious youth no longer crave,\r\n",
      "               His ancient appetites forgot,\r\n",
      "                  Kingston, or Ballantyne the brave,\r\n",
      "               Or Cooper of the wood and wave:\r\n",
      "                  So be it, also!  And may I\r\n",
      "               And all my pirates share the grave\r\n",
      "                  Where these and their creations lie!\r\n",
      "\r\n",
      "\r\n",
      "     CONTENTS\r\n",
      "\r\n",
      "     PART ONE\r\n",
      "     The Old Buccaneer\r\n",
      "\r\n",
      "     1.  THE OLD SEA-DOG AT THE ADMIRAL BENBOW     11\r\n",
      "     2.  BLACK DOG APPEARS AND DI\n"
     ]
    }
   ],
   "source": [
    "t = requests.get('https://www.gutenberg.org/files/120/120-0.txt')\n",
    "t.encode = 'ulf-8'\n",
    "html = t.text\n",
    "print(html[:2000])"
   ]
  },
  {
   "cell_type": "code",
   "execution_count": 3,
   "metadata": {},
   "outputs": [
    {
     "name": "stdout",
     "output_type": "stream",
     "text": [
      "         And buccaneers, and buried gold,\r\n",
      "               And all the old romance, retold\r\n",
      "                  Exactly in the ancient way,\r\n",
      "               Can please, as me they pleased of old,\r\n",
      "                  The wiser youngsters of today:\r\n",
      "\r\n",
      "               --So be it, and fall on!  If not,\r\n",
      "                  If studious youth no longer crave,\r\n",
      "               His ancient appetites forgot,\r\n",
      "                  Kingston, or Ballantyne the brave,\r\n",
      "               Or Cooper of the wood and wave:\r\n",
      "                  So be it, also!  And may I\r\n",
      "               And all my pirates share the grave\r\n",
      "                  Where these and their creations lie!\r\n",
      "\r\n",
      "\r\n",
      "     CONTENTS\r\n",
      "\r\n",
      "     PART ONE\r\n",
      "     The Old Buccaneer\r\n",
      "\r\n",
      "     1.  THE OLD SEA-DOG AT THE ADMIRAL BENBOW     11\r\n",
      "     2.  BLACK DOG APPEARS AND DISAPPEARS . . . .  17\r\n",
      "     3.  THE BLACK SPOT . . . . . . . . . . . . .  24\r\n",
      "     4.  THE SEA-CHEST  . . . . . . . . . . . . .  30\r\n",
      "     5.  THE LAST OF THE BLIND MAN  . . . . . . .  36\r\n",
      "     6.  THE CAPTAIN'S PAPERS . . . . . . . . . .  41\r\n",
      "\r\n",
      "     PART TWO\r\n",
      "     The Sea Cook\r\n",
      "\r\n",
      "     7.  I GO TO BRISTOL  . . . . . . . . . . . . . 48\r\n",
      "     8.  AT THE SIGN OF THE SPY-GLASS . . . . . . . 54\r\n",
      "     9. \n"
     ]
    }
   ],
   "source": [
    "soup = BeautifulSoup(html)\n",
    "text = soup.get_text()\n",
    "print(text[1200:2400])"
   ]
  },
  {
   "cell_type": "code",
   "execution_count": 4,
   "metadata": {},
   "outputs": [
    {
     "name": "stdout",
     "output_type": "stream",
     "text": [
      "['ï', 'The', 'Project', 'Gutenberg', 'EBook', 'of', 'Treasure', 'Island', 'by', 'Robert']\n"
     ]
    }
   ],
   "source": [
    "tokenizer = nltk.tokenize.RegexpTokenizer('\\w+') # text to words\n",
    "tokens = tokenizer.tokenize(text)\n",
    "print(tokens[:10])"
   ]
  },
  {
   "cell_type": "code",
   "execution_count": 5,
   "metadata": {},
   "outputs": [
    {
     "name": "stdout",
     "output_type": "stream",
     "text": [
      "['ï', 'the', 'project', 'gutenberg', 'ebook', 'of', 'treasure', 'island', 'by', 'robert']\n"
     ]
    }
   ],
   "source": [
    "words = []\n",
    "for word in tokens:\n",
    "    words.append(word.lower())\n",
    "print(words[0:10])"
   ]
  },
  {
   "cell_type": "code",
   "execution_count": 6,
   "metadata": {},
   "outputs": [
    {
     "name": "stderr",
     "output_type": "stream",
     "text": [
      "[nltk_data] Downloading package stopwords to\n",
      "[nltk_data]     C:\\Users\\natasha\\AppData\\Roaming\\nltk_data...\n",
      "[nltk_data]   Package stopwords is already up-to-date!\n"
     ]
    },
    {
     "data": {
      "text/plain": [
       "True"
      ]
     },
     "execution_count": 6,
     "metadata": {},
     "output_type": "execute_result"
    }
   ],
   "source": [
    "nltk.download('stopwords')"
   ]
  },
  {
   "cell_type": "code",
   "execution_count": 17,
   "metadata": {},
   "outputs": [
    {
     "name": "stdout",
     "output_type": "stream",
     "text": [
      "['i', 'me', 'my', 'myself', 'we', 'our', 'ours', 'ourselves', 'you', \"you're\", \"you've\", \"you'll\", \"you'd\", 'your', 'yours', 'yourself', 'yourselves', 'he', 'him', 'his', 'himself', 'she', \"she's\", 'her', 'hers', 'herself', 'it', \"it's\", 'its', 'itself', 'they', 'them', 'their', 'theirs', 'themselves', 'what', 'which', 'who', 'whom', 'this']\n"
     ]
    }
   ],
   "source": [
    "from nltk.corpus import stopwords\n",
    "stopwords = stopwords.words('english')\n",
    "print(stopwords[:40])"
   ]
  },
  {
   "cell_type": "code",
   "execution_count": 16,
   "metadata": {},
   "outputs": [
    {
     "name": "stdout",
     "output_type": "stream",
     "text": [
      "['ï', 'project', 'gutenberg', 'ebook', 'treasure', 'island', 'robert', 'louis', 'stevenson', 'ebook', 'use', 'anyone', 'anywhere', 'cost', 'almost', 'restrictions', 'whatsoever', 'may', 'copy', 'give', 'away', 'use', 'terms', 'project', 'gutenberg', 'license', 'included', 'ebook', 'online', 'www']\n"
     ]
    }
   ],
   "source": [
    "no_sw = []\n",
    "for word in words:\n",
    "    if word not in stopwords:\n",
    "        no_sw.append(word)\n",
    "print(no_sw[0:25]) \n",
    "\n"
   ]
  },
  {
   "cell_type": "code",
   "execution_count": 18,
   "metadata": {},
   "outputs": [
    {
     "name": "stdout",
     "output_type": "stream",
     "text": [
      "['ï', 'the', 'project', 'gutenberg', 'ebook', 'of', 'treasure', 'island', 'by', 'robert', 'louis', 'stevenson', 'this', 'ebook', 'is', 'for', 'the', 'use', 'of', 'anyone', 'anywhere', 'at', 'no', 'cost', 'and', 'with', 'almost', 'no', 'restrictions', 'whatsoever']\n"
     ]
    }
   ],
   "source": [
    "print(words[:30])"
   ]
  },
  {
   "cell_type": "code",
   "execution_count": 20,
   "metadata": {},
   "outputs": [
    {
     "data": {
      "image/png": "[encoded data removed]",
      "text/plain": [
       "<Figure size 432x288 with 1 Axes>"
      ]
     },
     "metadata": {
      "needs_background": "light"
     },
     "output_type": "display_data"
    },
    {
     "data": {
      "text/plain": [
       "<matplotlib.axes._subplots.AxesSubplot at 0x2cfb85f5400>"
      ]
     },
     "execution_count": 20,
     "metadata": {},
     "output_type": "execute_result"
    }
   ],
   "source": [
    "%matplotlib inline\n",
    "word_frequency = nltk.FreqDist(no_sw)\n",
    "word_frequency.plot(25)"
   ]
  },
  {
   "cell_type": "code",
   "execution_count": 21,
   "metadata": {},
   "outputs": [],
   "source": [
    "most_common_word = 'a'"
   ]
  },
  {
   "cell_type": "code",
   "execution_count": null,
   "metadata": {},
   "outputs": [],
   "source": []
  }
 ],
 "metadata": {
  "kernelspec": {
   "display_name": "Python 3",
   "language": "python",
   "name": "python3"
  },
  "language_info": {
   "codemirror_mode": {
    "name": "ipython",
    "version": 3
   },
   "file_extension": ".py",
   "mimetype": "text/x-python",
   "name": "python",
   "nbconvert_exporter": "python",
   "pygments_lexer": "ipython3",
   "version": "3.7.3"
  }
 },
 "nbformat": 4,
 "nbformat_minor": 2
}
